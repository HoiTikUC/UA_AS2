{
 "cells": [
  {
   "attachments": {},
   "cell_type": "markdown",
   "id": "1965c421-c313-4e02-815e-0bbcfd039238",
   "metadata": {},
   "source": [
    "# GG4257 - Urban Analytics: A Toolkit for Sustainable Urban Development\n",
    "## Lab Assignment No 2\n",
    "\n",
    "# General Information\n",
    "- **Student ID No:** 200035573\n",
    "- **Degree Programme:** MA(Hons)Economics and Geography\n",
    "- **Deadline Date:** 12nn 5th Apr 2025\n",
    "\n",
    "# GitHub Repository\n",
    "- **GitHub Link:** https://github.com/HoiTikUC/UA_AS2\n",
    "\n",
    "# Declaration\n",
    "\n",
    "In submitting this assignment, I hereby confirm that I have read the University's statement on Good Academic Practice. The following work is my own. Significant academic debts and borrowings have been properly acknowledged and referenced."
   ]
  },
  {
   "cell_type": "markdown",
   "id": "7651068d-19d1-4dcc-b530-a2fc98f6156c",
   "metadata": {},
   "source": [
    "# Introducction\n"
   ]
  },
  {
   "cell_type": "markdown",
   "id": "16b9c8c6-e73b-45f8-ac25-7c44070341eb",
   "metadata": {},
   "source": [
    "Data for the assignment is around 143.2MB, it is available via OneDrive:  \n",
    "\n",
    "https://universityofstandrews907-my.sharepoint.com/:f:/r/personal/chtu1_st-andrews_ac_uk/Documents/Data?csf=1&web=1&e=LgyKez"
   ]
  }
 ],
 "metadata": {
  "kernelspec": {
   "display_name": "Python 3 (ipykernel)",
   "language": "python",
   "name": "python3"
  },
  "language_info": {
   "codemirror_mode": {
    "name": "ipython",
    "version": 3
   },
   "file_extension": ".py",
   "mimetype": "text/x-python",
   "name": "python",
   "nbconvert_exporter": "python",
   "pygments_lexer": "ipython3",
   "version": "3.11.6"
  }
 },
 "nbformat": 4,
 "nbformat_minor": 5
}
