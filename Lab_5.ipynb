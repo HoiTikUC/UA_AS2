{
 "cells": [
  {
   "cell_type": "markdown",
   "id": "8037b5da-1c59-4682-a03c-f93f589869d7",
   "metadata": {},
   "source": [
    "# Lab No 5: Intro to Networks"
   ]
  },
  {
   "cell_type": "markdown",
   "id": "d34a68b6-9d50-4986-8ed4-0e4e923b8bde",
   "metadata": {},
   "source": [
    "# Challenge 1"
   ]
  },
  {
   "cell_type": "code",
   "execution_count": null,
   "id": "3d6b5146-ea5d-491d-aec6-ac61ddb6f0f5",
   "metadata": {},
   "outputs": [],
   "source": [
    "import pandas as pd\n",
    "import numpy as np\n",
    "\n",
    "# Importing the csv. file.....\n",
    "df = pd.read_csv('/UA/Lab_5_Data/FS.csv')"
   ]
  },
  {
   "cell_type": "code",
   "execution_count": null,
   "id": "04d1e802-f07c-495d-8389-a8fb039f4856",
   "metadata": {},
   "outputs": [],
   "source": [
    "import networkx as nx\n",
    "\n",
    "# Plugging in the csv. into nx\n",
    "# With column source as source and target as target\n",
    "G = nx.from_pandas_edgelist(df, source=\"source\", target=\"target\")\n",
    "\n",
    "# Showing how many nodes and edges in the dataset\n",
    "print(f\"Number of nodes: {G.number_of_nodes()}\")\n",
    "print(f\"Number of edges: {G.number_of_edges()}\")"
   ]
  },
  {
   "cell_type": "code",
   "execution_count": null,
   "id": "ac9bf4ec-875c-4273-8f88-37f5cce1af0e",
   "metadata": {},
   "outputs": [],
   "source": [
    "# Calculating the degree centrality\n",
    "degree_centrality = nx.degree_centrality(G)\n",
    "\n",
    "# Sorting out the top 4 nodes with the greatest value\n",
    "top4_nodes = sorted(degree_centrality, key=degree_centrality.get, reverse=True)[:4]\n",
    "\n",
    "print(\"Top 4 most important nodes:\", top4_nodes)"
   ]
  },
  {
   "cell_type": "code",
   "execution_count": null,
   "id": "3bdf660a-ffca-4f33-8aef-a6a7cdd50822",
   "metadata": {},
   "outputs": [],
   "source": [
    "# Creating a subset to avoid plotting all the nodes\n",
    "subgraph_nodes = set(top4_nodes)\n",
    "for node in top4_nodes:\n",
    "    \n",
    "    # Since they are the most important nodes \n",
    "    # They must have a lot of neighbors, the graph will be a mess if we plot it all\n",
    "    # extracting only 50 neighbors for each nodes \n",
    "    neighbors = list(G.neighbors(node))[:50]  \n",
    "    subgraph_nodes.update(neighbors)\n",
    "\n",
    "# Create a subgraph\n",
    "G_sub = G.subgraph(subgraph_nodes)  "
   ]
  },
  {
   "cell_type": "code",
   "execution_count": null,
   "id": "e6c06f6a-82ed-483c-8c14-9521819c48d0",
   "metadata": {},
   "outputs": [],
   "source": [
    "import matplotlib.pyplot as plt\n",
    "\n",
    "# Plotting the subgraph\n",
    "plt.figure(figsize=(10, 10))\n",
    "\n",
    "pos = nx.spring_layout(G_sub)  \n",
    "nx.draw(G_sub, pos, \n",
    "        with_labels=True, \n",
    "        node_color='yellow', \n",
    "        edge_color='gray',\n",
    "        node_size=500, \n",
    "        font_size=8)\n",
    "\n",
    "nx.draw_networkx_nodes(G_sub, \n",
    "                       pos, \n",
    "                       nodelist=top4_nodes, \n",
    "                       node_color='red', \n",
    "                       node_size=800)\n",
    "\n",
    "\n",
    "plt.title(\"Top 4 Most Important Nodes and Their Neighbors\")\n",
    "plt.show()"
   ]
  },
  {
   "cell_type": "code",
   "execution_count": null,
   "id": "181aec98-77f0-4fdd-a5db-65d6762f4c3c",
   "metadata": {},
   "outputs": [],
   "source": [
    "# Creating a list for the original network degree centrality\n",
    "centrality_values = list(degree_centrality.values())\n",
    "\n",
    "# These values mostly fall around 0.0001 to 0.000001\n",
    "# They would all fall in the same bar if we plot it directly\n",
    "# Putting the number into log form will provide a better illustration\n",
    "bins = np.logspace(np.log10(min(centrality_values) + 1e-5), np.log10(max(centrality_values)), 50)\n",
    "\n",
    "#Plotting the graph\n",
    "plt.figure(figsize=(10, 6))\n",
    "plt.hist(centrality_values, bins=bins, color='blue', edgecolor='black', alpha=0.7)\n",
    "plt.xscale(\"log\")\n",
    "plt.xlabel(\"Degree Centrality (Log Scale)\")\n",
    "plt.ylabel(\"Frequency\")\n",
    "plt.title(\"Distribution of Node Degree Centrality in the Network\")\n",
    "\n",
    "plt.show()"
   ]
  },
  {
   "cell_type": "code",
   "execution_count": null,
   "id": "5cc22827-2540-488d-9cb3-d27bcd9b975e",
   "metadata": {},
   "outputs": [],
   "source": [
    "import matplotlib.cm as color\n",
    "import matplotlib.colors as colors\n",
    "from sklearn.preprocessing import MinMaxScaler\n",
    "\n",
    "# Sorting top 25 nodes out by degree\n",
    "top25_nodes = sorted(G.degree, key=lambda x: x[1], reverse=True)[:25]\n",
    "\n",
    "# Creating a new subgraph\n",
    "G_small = G.subgraph([n for n, _ in top_nodes]).copy()\n",
    "\n",
    "# Computing the betweenness centrality\n",
    "centrality = nx.betweenness_centrality(G_small, endpoints=True)"
   ]
  },
  {
   "cell_type": "code",
   "execution_count": null,
   "id": "7fa2a075-deed-4df7-a3ec-ff0fe82383cd",
   "metadata": {},
   "outputs": [],
   "source": [
    "# Node layout\n",
    "pos = nx.spring_layout(G_small, seed=42)\n",
    "\n",
    "# Since the value of is around 0.0822 to 0.0808\n",
    "# It will be insignificant if we use it to represent the node sizes in the graph directly\n",
    "# So It will be better if we standardize it\n",
    "\n",
    "# Converting the betweenness centrality values into NumPy array, for plugging into MinMaxScaler\n",
    "centrality_values = np.array(list(centrality.values())).reshape(-1, 1)\n",
    "scaler = MinMaxScaler()\n",
    "centrality_scaled = scaler.fit_transform(centrality_values).flatten()\n",
    "node_sizes = [v * 3000 for v in centrality_scaled] \n",
    "\n",
    "# Color by the betweenness centrality values\n",
    "centrality_values = list(centrality.values())\n",
    "norm = colors.Normalize(vmin=min(centrality_values), vmax=max(centrality_values))\n",
    "cmap = plt.colormaps[\"viridis\"]\n",
    "node_colors = [cmap(norm(centrality[n])) for n in G_small.nodes()]"
   ]
  },
  {
   "cell_type": "code",
   "execution_count": null,
   "id": "43993d52-3417-4c6e-bda7-3c27b121c82b",
   "metadata": {},
   "outputs": [],
   "source": [
    "# Plotting the graph\n",
    "fig, ax = plt.subplots(figsize=(14, 10))\n",
    "nx.draw_networkx(\n",
    "    G_small,\n",
    "    pos=pos,\n",
    "    node_size=node_sizes,\n",
    "    node_color=node_colors,\n",
    "    edge_color=\"lightgray\",\n",
    "    with_labels=True,\n",
    "    alpha=0.8,\n",
    "    ax=ax\n",
    ")\n",
    "\n",
    "# Add a colorbar\n",
    "sm = plt.cm.ScalarMappable(cmap=cmap, norm=norm)\n",
    "sm.set_array([])\n",
    "cbar = plt.colorbar(sm, ax=ax)\n",
    "cbar.set_label(\"Betweenness Centrality\", fontsize=12)\n",
    "\n",
    "\n",
    "ax.set_title(\"Top 25 Nodes — Betweenness Centrality (Size + Color)\", fontsize=18, fontweight=\"bold\")\n",
    "plt.axis(\"off\")\n",
    "plt.tight_layout()\n",
    "plt.show()"
   ]
  },
  {
   "cell_type": "code",
   "execution_count": null,
   "id": "57da67fe-01bb-4bca-b494-c144f70f277b",
   "metadata": {},
   "outputs": [],
   "source": [
    "import nxviz as nv\n",
    "import warnings\n",
    "\n",
    "warnings.filterwarnings(\"ignore\", category=UserWarning, module=\"nxviz\")\n",
    "nv.MatrixPlot(G_sub)\n",
    "plt.show()"
   ]
  },
  {
   "cell_type": "code",
   "execution_count": null,
   "id": "fc917d13-8bcd-41e5-bbfc-77d193989296",
   "metadata": {},
   "outputs": [],
   "source": [
    "nv.CircosPlot(G_sub)\n",
    "plt.show()"
   ]
  },
  {
   "cell_type": "code",
   "execution_count": null,
   "id": "25b87dcf-fd11-45a9-8451-2dfccabc161c",
   "metadata": {},
   "outputs": [],
   "source": [
    "a = nv.ArcPlot(G_sub)\n",
    "plt.show()"
   ]
  },
  {
   "cell_type": "markdown",
   "id": "49abfb62-623f-4a3c-814c-507a262d30d9",
   "metadata": {},
   "source": [
    "# Challenge 2"
   ]
  },
  {
   "cell_type": "code",
   "execution_count": null,
   "id": "2e79a527-d57c-4685-8555-cb563ce099fd",
   "metadata": {},
   "outputs": [],
   "source": [
    "import networkx as nx\n",
    "import osmnx as ox"
   ]
  },
  {
   "cell_type": "code",
   "execution_count": null,
   "id": "f472f4d6-153f-46f2-9c2f-50e5e6b39b78",
   "metadata": {},
   "outputs": [],
   "source": [
    "warnings.filterwarnings('ignore')\n",
    "\n",
    "# Downloading the street network of Kowloon, Hong Kong\n",
    "place = \"Kowloon, Hong Kong\"\n",
    "G = ox.graph_from_place(place, network_type=\"drive\")"
   ]
  },
  {
   "cell_type": "code",
   "execution_count": null,
   "id": "8842ac4f-c548-485f-8582-aee00dccfd7b",
   "metadata": {},
   "outputs": [],
   "source": [
    "warnings.filterwarnings('ignore')\n",
    "\n",
    "# Calculating the geographic area covered \n",
    "G_proj = ox.project_graph(G)\n",
    "nodes_proj = ox.graph_to_gdfs(G_proj, edges=False)\n",
    "graph_area_m = nodes_proj.unary_union.convex_hull.area\n",
    "graph_area_m"
   ]
  },
  {
   "cell_type": "code",
   "execution_count": null,
   "id": "8fbf2943-7c49-4b4d-aed6-91f41682bf89",
   "metadata": {},
   "outputs": [],
   "source": [
    "# Basic Statistics of the street network\n",
    "ox.basic_stats(G, area=graph_area_m, clean_int_tol=15)"
   ]
  },
  {
   "cell_type": "code",
   "execution_count": null,
   "id": "851c721a-4f18-4881-bd08-bf0348851e96",
   "metadata": {},
   "outputs": [],
   "source": [
    "# Customized street network graph\n",
    "ox.plot.plot_graph(G, \n",
    "                   ax=None, \n",
    "                   figsize=(12, 12), \n",
    "                   bgcolor='Black', \n",
    "                   node_color='y', \n",
    "                   node_size=5,\n",
    "                   node_zorder=1, \n",
    "                   edge_color='w', \n",
    "                   edge_linewidth=0.5)"
   ]
  },
  {
   "cell_type": "code",
   "execution_count": null,
   "id": "6a25c24f-ac44-46ed-a92f-c33c4cfbbf0e",
   "metadata": {},
   "outputs": [],
   "source": [
    "# Setting up the starting and ending point lat/lng\n",
    "orig_node = ox.distance.nearest_nodes(G, X=114.2255 , Y=22.3135)\n",
    "dest_node = ox.distance.nearest_nodes(G, X=114.1717, Y=22.2950)\n",
    "\n",
    "# Computing the shortest path by length\n",
    "route = nx.shortest_path(G, orig_node, dest_node, weight=\"length\")\n",
    "\n",
    "\n",
    "fig, ax = ox.plot_graph_route(\n",
    "    G,\n",
    "    route,\n",
    "    route_linewidth=2.5,  \n",
    "    route_color=\"r\",  \n",
    "    node_size=5,  \n",
    "    node_color=\"y\",  \n",
    "    edge_color=\"w\",  \n",
    "    edge_linewidth=0.5,  \n",
    "    bgcolor=\"black\", \n",
    "    figsize=(12, 12),\n",
    ")\n",
    "plt.show()"
   ]
  },
  {
   "cell_type": "code",
   "execution_count": null,
   "id": "44627873-d0e6-46b3-ba00-8acd6987e99b",
   "metadata": {},
   "outputs": [],
   "source": [
    "# Computing the degree centrality for the nodes\n",
    "degree_centrality_nodes = nx.degree_centrality(G)"
   ]
  },
  {
   "cell_type": "code",
   "execution_count": null,
   "id": "aca19a1f-8ae6-40b7-b9d2-d3ca591fe328",
   "metadata": {},
   "outputs": [],
   "source": [
    "# Computing the betweenness centrality for the nodes\n",
    "betweenness_centrality_nodes = nx.betweenness_centrality(G)"
   ]
  },
  {
   "cell_type": "code",
   "execution_count": null,
   "id": "4f160574-39d1-4e2f-b10d-853424b68249",
   "metadata": {},
   "outputs": [],
   "source": [
    "import osmnx as ox\n",
    "from IPython.display import Image\n",
    "warnings.filterwarnings('ignore')\n",
    "\n",
    "#Setting the configuration of the image\n",
    "img_folder = \"images\"\n",
    "extension = \"png\"\n",
    "size = 400\n",
    "dpi = 1080\n",
    "\n",
    "\n",
    "# Customizing the size of the street\n",
    "street_widths = {\n",
    "    \"footway\": 0.5,\n",
    "    \"steps\": 0.5,\n",
    "    \"pedestrian\": 0.5,\n",
    "    \"path\": 0.5,\n",
    "    \"track\": 0.5,\n",
    "    \"service\": 2,\n",
    "    \"residential\": 3,\n",
    "    \"primary\": 5,\n",
    "    \"motorway\": 6,\n",
    "}\n",
    "\n",
    "# Setting up central point\n",
    "point = (22.2950, 114.1717)\n",
    "fp = f\"./{img_folder}/{place}.{extension}\"\n",
    "\n",
    "# Customizing the color\n",
    "bgcolor = \"white\"      \n",
    "street_color = \"Black\"   \n",
    "\n",
    "# plotting the figure ground\n",
    "fig, ax = ox.plot_figure_ground(\n",
    "    point=point,\n",
    "    filepath=fp,\n",
    "    network_type=\"all\",\n",
    "    street_widths=street_widths,\n",
    "    dpi=dpi,\n",
    "    save=True,\n",
    "    show=False,\n",
    "    close=True,\n",
    "    bgcolor=bgcolor,\n",
    "    color=street_color,\n",
    ")\n",
    "Image(fp, height=size, width=size)"
   ]
  },
  {
   "cell_type": "code",
   "execution_count": null,
   "id": "bd97cad6-f7fe-4aa1-a7b9-8792681b27d6",
   "metadata": {},
   "outputs": [],
   "source": [
    "# Interactive maps to plot edges\n",
    "ox.graph_to_gdfs(G, nodes=False).explore()"
   ]
  },
  {
   "cell_type": "code",
   "execution_count": null,
   "id": "8f1fae92-dab1-49b0-a804-5761ad49c466",
   "metadata": {},
   "outputs": [],
   "source": [
    "# Interactive maps to plot nodes\n",
    "nodes = ox.graph_to_gdfs(G, edges=False)\n",
    "nodes.explore(tiles=\"cartodbpositron\", marker_kwds={\"radius\": 5})"
   ]
  },
  {
   "cell_type": "code",
   "execution_count": null,
   "id": "c2e32890-c2bd-4121-8f49-63a237e56f11",
   "metadata": {},
   "outputs": [],
   "source": [
    "# Interactive maps to plot nodes+edges\n",
    "\n",
    "nodes, edges = ox.graph_to_gdfs(G)\n",
    "m = edges.explore(color=\"blue\", tiles=\"cartodbdarkmatter\")\n",
    "nodes.explore(m=m, color=\"yellow\", marker_kwds={\"radius\": 5})"
   ]
  },
  {
   "cell_type": "code",
   "execution_count": null,
   "id": "25fd9833-4f35-48b8-8439-1d57c95f2e5c",
   "metadata": {},
   "outputs": [],
   "source": [
    "# interactive maps for centrality measures - betweenness_centrality\n",
    "\n",
    "nx.set_node_attributes(G, betweenness_centrality, name=\"bc\")\n",
    "nodes = ox.graph_to_gdfs(G, edges=False)\n",
    "nodes.explore(tiles=\"cartodbdarkmatter\", column=\"bc\", marker_kwds={\"radius\": 5})"
   ]
  },
  {
   "cell_type": "code",
   "execution_count": null,
   "id": "db221cf6-dd64-4a18-9376-ea5e84451753",
   "metadata": {},
   "outputs": [],
   "source": [
    "# Export the street network to a GeoPackage (.gpkg) file.\n",
    "ox.save_graph_geopackage(G, filepath=\"/UA/map1.gpkg\") # designated path to save"
   ]
  },
  {
   "cell_type": "code",
   "execution_count": null,
   "id": "bca83b68-0c6e-4359-ab4c-1e9787915716",
   "metadata": {},
   "outputs": [],
   "source": [
    "import folium\n",
    "import geopandas as gpd\n",
    "\n",
    "# Reading the saved .gpkg file with gpd and plot it with folium map\n",
    "gpkg_filepath = \"/UA/map1.gpkg\"\n",
    "nodes = gpd.read_file(gpkg_filepath, layer=\"nodes\") # Assigning nodes and edges\n",
    "edges = gpd.read_file(gpkg_filepath, layer=\"edges\")\n",
    "\n",
    "# Creating the base map\n",
    "map_center = [22.2950, 114.1717]\n",
    "m = folium.Map(location=map_center, zoom_start=15)\n",
    "\n",
    "\n",
    "folium.GeoJson(edges.to_json(), name=\"Edges\").add_to(m)\n",
    "folium.GeoJson(nodes.to_json(), name=\"Nodes\").add_to(m)\n",
    "folium.LayerControl().add_to(m)\n",
    "\n",
    "m"
   ]
  },
  {
   "cell_type": "code",
   "execution_count": null,
   "id": "0de81e63-e3fb-4980-83c8-ebab4f074d52",
   "metadata": {},
   "outputs": [],
   "source": [
    "# Extracting building features\n",
    "\n",
    "warnings.filterwarnings('ignore')\n",
    "buildings = ox.features_from_place(place, tags={'building': True})"
   ]
  },
  {
   "cell_type": "code",
   "execution_count": null,
   "id": "420b73a9-9c85-484c-858e-5576dcdf9103",
   "metadata": {},
   "outputs": [],
   "source": [
    "# Extracting parks features\n",
    "warnings.filterwarnings('ignore')\n",
    "parks = ox.features_from_place(place, tags={'leisure': 'park'})"
   ]
  },
  {
   "cell_type": "code",
   "execution_count": null,
   "id": "b811c0a1-dbb0-44f7-991f-b5d89d0c7ebf",
   "metadata": {},
   "outputs": [],
   "source": [
    "# Plotting the extracted features\n",
    "\n",
    "fig, ax = plt.subplots(figsize=(12, 12))\n",
    "\n",
    "buildings.plot(ax=ax, facecolor='lightgrey', edgecolor='black', alpha=0.7, linewidth=0.5)\n",
    "parks.plot(ax=ax, facecolor='green', edgecolor='none', alpha=0.5)\n",
    "\n",
    "ax.set_title(\"Buildings and Parks\", fontsize=16)\n",
    "plt.axis(\"off\")\n",
    "plt.show()    "
   ]
  },
  {
   "cell_type": "code",
   "execution_count": null,
   "id": "7ca3dc8f-3012-4b0e-843e-9c4239583763",
   "metadata": {},
   "outputs": [],
   "source": []
  }
 ],
 "metadata": {
  "kernelspec": {
   "display_name": "Python 3 (ipykernel)",
   "language": "python",
   "name": "python3"
  },
  "language_info": {
   "codemirror_mode": {
    "name": "ipython",
    "version": 3
   },
   "file_extension": ".py",
   "mimetype": "text/x-python",
   "name": "python",
   "nbconvert_exporter": "python",
   "pygments_lexer": "ipython3",
   "version": "3.11.6"
  }
 },
 "nbformat": 4,
 "nbformat_minor": 5
}
